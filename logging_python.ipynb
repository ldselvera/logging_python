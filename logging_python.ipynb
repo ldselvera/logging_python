{
  "nbformat": 4,
  "nbformat_minor": 0,
  "metadata": {
    "colab": {
      "name": "logging_python.ipynb",
      "provenance": [],
      "authorship_tag": "ABX9TyNu+OoEW2TvbnqTjEIXHZHx",
      "include_colab_link": true
    },
    "kernelspec": {
      "name": "python3",
      "display_name": "Python 3"
    },
    "language_info": {
      "name": "python"
    }
  },
  "cells": [
    {
      "cell_type": "markdown",
      "metadata": {
        "id": "view-in-github",
        "colab_type": "text"
      },
      "source": [
        "<a href=\"https://colab.research.google.com/github/ldselvera/logging_python/blob/main/logging_python.ipynb\" target=\"_parent\"><img src=\"https://colab.research.google.com/assets/colab-badge.svg\" alt=\"Open In Colab\"/></a>"
      ]
    },
    {
      "cell_type": "markdown",
      "source": [
        "# Introduction "
      ],
      "metadata": {
        "id": "ohkWsLqkUX1X"
      }
    },
    {
      "cell_type": "markdown",
      "source": [
        "Logging is one of the most useful tools in a programmer's toolbox. It’s used as an aid to better understand the flow of a program and identify scenarios that may not have been considered while the program was being developed."
      ],
      "metadata": {
        "id": "uf_Wf4uaTASG"
      }
    },
    {
      "cell_type": "markdown",
      "source": [
        "Python provides us with a built-in logging module called `logging`. We will cover important concepts that will allow you to begin adding logging to your applications."
      ],
      "metadata": {
        "id": "Odl16wlCTE2T"
      }
    },
    {
      "cell_type": "markdown",
      "source": [
        "Each logging function is named after an event's severity level — this makes it possible to record the most urgent events in your program.\n",
        "\n",
        "The defined levels, in order of increasing severity, are as follows:\n",
        "* **DEBUG**: *Used to record low-level details with regards to the source code, for example, notifying the developers that a function has been called or the value of an object stored in a variable.*\n",
        "* **INFO**: *Used for general purpose information regarding things occurring in a program such as a file being read or an email being sent.*\n",
        "* **WARNING**: *Used as a warning to inform you there's no error yet but there may be errors in the future.*\n",
        "* **ERROR**: *Used for errors that are preventable.*\n",
        "* **CRITICAL**: *Used for errors that cause the system to fail or cannot be recovered.*"
      ],
      "metadata": {
        "id": "UUoLJ8eJTezt"
      }
    },
    {
      "cell_type": "code",
      "source": [
        "import logging "
      ],
      "metadata": {
        "id": "gZfhJFTnTrU8"
      },
      "execution_count": 2,
      "outputs": []
    },
    {
      "cell_type": "code",
      "source": [
        "logging.debug(\"debug message\")"
      ],
      "metadata": {
        "id": "TURGixugTudI"
      },
      "execution_count": 3,
      "outputs": []
    },
    {
      "cell_type": "code",
      "source": [
        "logging.info(\"info message\")"
      ],
      "metadata": {
        "id": "tx89cLjKTvmI"
      },
      "execution_count": 4,
      "outputs": []
    },
    {
      "cell_type": "code",
      "source": [
        "logging.warning(\"warning message\")"
      ],
      "metadata": {
        "colab": {
          "base_uri": "https://localhost:8080/"
        },
        "id": "fWhBVGqTTzKe",
        "outputId": "f14a132f-fb8e-427f-83d7-b57cc1d21896"
      },
      "execution_count": 5,
      "outputs": [
        {
          "output_type": "stream",
          "name": "stderr",
          "text": [
            "WARNING:root:warning message\n"
          ]
        }
      ]
    },
    {
      "cell_type": "code",
      "source": [
        "logging.error(\"error message\")"
      ],
      "metadata": {
        "colab": {
          "base_uri": "https://localhost:8080/"
        },
        "id": "7fg4unv5T0hs",
        "outputId": "d13a74e9-3ddd-45f5-b91d-28537590cb7d"
      },
      "execution_count": 6,
      "outputs": [
        {
          "output_type": "stream",
          "name": "stderr",
          "text": [
            "ERROR:root:error message\n"
          ]
        }
      ]
    },
    {
      "cell_type": "code",
      "source": [
        "logging.critical(\"critical message\")"
      ],
      "metadata": {
        "colab": {
          "base_uri": "https://localhost:8080/"
        },
        "id": "BcFi6lP-T1s-",
        "outputId": "637ccf9c-5a65-4ede-b2a8-053be1c4380d"
      },
      "execution_count": 7,
      "outputs": [
        {
          "output_type": "stream",
          "name": "stderr",
          "text": [
            "CRITICAL:root:critical message\n"
          ]
        }
      ]
    },
    {
      "cell_type": "markdown",
      "source": [
        "1. The `logging.debug()` and `logging.info()` functions are not logged. This is because the default configuration is to only log messages with a severity level of `WARNING` or above.\n",
        "\n",
        "2. The output format of the logged messages is `severity_level:logger_name:logging_message`."
      ],
      "metadata": {
        "id": "9wSuBlK3UJfu"
      }
    },
    {
      "cell_type": "markdown",
      "source": [
        "# Configuring logger"
      ],
      "metadata": {
        "id": "37O_bGsSUcdT"
      }
    },
    {
      "cell_type": "markdown",
      "source": [
        "we can set up our logger by configuring it with `logging.basicConfig()`."
      ],
      "metadata": {
        "id": "ffkIMxlSUjf1"
      }
    },
    {
      "cell_type": "markdown",
      "source": [
        "The most commonly used parameters of logging.basicConfig() include:\n",
        "\n",
        "* `filename` — Specifies a `FileHandler` is created using the specified `filename` instead of a `StreamHandler`; The logging output is sent to a disk file with the given `filename`.\n",
        "* `filemode` — If a `filename` is specified then the file will be opened in the given `filemode`. The default mode is ‘a’: learn more about the different modes.\n",
        "* `format` — The specified format string will be used for the handler; The default format string is `levelname:name:message`.\n",
        "* `level` — The specified severity level the root logger should be set to."
      ],
      "metadata": {
        "id": "N8PDJuPqUqIl"
      }
    },
    {
      "cell_type": "code",
      "source": [
        "import logging\n",
        "from datetime import date"
      ],
      "metadata": {
        "id": "o5aw6LAIT2zS"
      },
      "execution_count": 8,
      "outputs": []
    },
    {
      "cell_type": "code",
      "source": [
        "logging.basicConfig(level=logging.INFO)"
      ],
      "metadata": {
        "id": "b-gDnmGwX2p3"
      },
      "execution_count": 9,
      "outputs": []
    },
    {
      "cell_type": "code",
      "source": [
        "def calculate_age(year_of_birth:int) -> int:\n",
        "    \"\"\"Compute the age of a person\"\"\"\n",
        "    current_year = date.today().year\n",
        "    return current_year - year_of_birth"
      ],
      "metadata": {
        "id": "bm7SXsP0X3qI"
      },
      "execution_count": 10,
      "outputs": []
    },
    {
      "cell_type": "code",
      "source": [
        "year_of_birth = 1994\n",
        "logging.info(f\"User was born in {year_of_birth} and is approximately {calculate_age(year_of_birth)} years old\")"
      ],
      "metadata": {
        "id": "nUO4kEkwX4xK"
      },
      "execution_count": 11,
      "outputs": []
    },
    {
      "cell_type": "markdown",
      "source": [
        "If we wanted to send our log message to a file instead of the console, we must pass the argument `filename` to our `logging.basicConfig()` and provide a name that we’d like to save the file under."
      ],
      "metadata": {
        "id": "XfrUJeW-YDWw"
      }
    },
    {
      "cell_type": "markdown",
      "source": [
        "**Note**: *`basicConfig()` can only be called only if the root logger has not already been configured — it can only be called once. Thus, imagine the next few code snippets are updating the script above rather than extending it.*"
      ],
      "metadata": {
        "id": "jcpUXjlnYO--"
      }
    },
    {
      "cell_type": "code",
      "source": [
        "logging.basicConfig(level=logging.INFO, filename=\"example.log\") "
      ],
      "metadata": {
        "id": "8AD7hi0TX89Y"
      },
      "execution_count": 12,
      "outputs": []
    },
    {
      "cell_type": "markdown",
      "source": [
        "Performing this update to our code will now append all the subsequent log messages to the file named `example.log` in your current working directory — this means if the file already exists then the logger would simply add your new logs to the end of the file."
      ],
      "metadata": {
        "id": "3PC6E7Z6YjwH"
      }
    },
    {
      "cell_type": "markdown",
      "source": [
        "You can change this behavior by setting the `filemode`. By default, the `filemode` parameter is set to `\"a\"` which means the file is “*open for writing, appending to the end of file if it exists*”. Let’s change the `filemode` to `\"w\"`: “*open for writing, truncating the file first.*”"
      ],
      "metadata": {
        "id": "IZiqhSpsYurv"
      }
    },
    {
      "cell_type": "code",
      "source": [
        "logging.basicConfig(level=logging.INFO, \n",
        "                    filename=\"example.log\",\n",
        "                    filemode=\"w\")"
      ],
      "metadata": {
        "id": "yh3SHjh3YbkF"
      },
      "execution_count": 13,
      "outputs": []
    },
    {
      "cell_type": "markdown",
      "source": [
        "Each time the program is run, the log file will be rewritten because of the change we made to the `filemode`."
      ],
      "metadata": {
        "id": "ATrGjz2DZFYx"
      }
    },
    {
      "cell_type": "markdown",
      "source": [
        "At the moment, the log message being stored is from the default formating — `levelname:name:message`. We can change this by setting the `format` parameter in our default config."
      ],
      "metadata": {
        "id": "us-ahPeJZI1P"
      }
    },
    {
      "cell_type": "markdown",
      "source": [
        "The `logging` module also provides several shorthand elements that can easily be added to the output format. For example, we can use `%(asctime)s` to output a human-readable time of when the `LogRecord` is created."
      ],
      "metadata": {
        "id": "G-KY9UHeZeGy"
      }
    },
    {
      "cell_type": "code",
      "source": [
        "logging.basicConfig(level=logging.INFO, \n",
        "                    filename=\"example.log\",\n",
        "                    format=\"%(asctime)s - %(message)s\")\n",
        "\n",
        "logging.info(f\"User was born in {year_of_birth} and is approximately {calculate_age(year_of_birth)} years old\")"
      ],
      "metadata": {
        "id": "31ziI3WBZDra"
      },
      "execution_count": 14,
      "outputs": []
    },
    {
      "cell_type": "markdown",
      "source": [
        "# Creating logger object"
      ],
      "metadata": {
        "id": "k_Hf4wrOaV9W"
      }
    },
    {
      "cell_type": "markdown",
      "source": [
        "The `logging` documentation advises us to create our own logger object of the `Logger` class — this is even more important when there are multiple modules in your application."
      ],
      "metadata": {
        "id": "ryS5KoNYahNu"
      }
    },
    {
      "cell_type": "markdown",
      "source": [
        "loggers should NEVER be instantiated directly, but always through the module-level function `logging.getLogger(name)`. Multiple calls to `getLogger()` with the same name will always return a reference to the same Logger object."
      ],
      "metadata": {
        "id": "HmLb94kJayjf"
      }
    },
    {
      "cell_type": "code",
      "source": [
        "import logging\n",
        "\n",
        "_logger = logging.getLogger(__name__)"
      ],
      "metadata": {
        "id": "2zbZuPKJZqgx"
      },
      "execution_count": 15,
      "outputs": []
    },
    {
      "cell_type": "markdown",
      "source": [
        "The name of the python file is `predict.py`: thus, we have instantiated a custom logger in the `_logger` variable called `predict`."
      ],
      "metadata": {
        "id": "fbwW75EGbi4G"
      }
    },
    {
      "cell_type": "markdown",
      "source": [
        "It is recommended that we use module-level loggers by passing `__name__` as the name parameter to `getLogger()` to create a logger object as the name of the logger itself would tell us from where the events are being logged. `__name__` is a special built-in variable in Python which evaluates to the name of the current module."
      ],
      "metadata": {
        "id": "8DOHsrHUbpoa"
      }
    },
    {
      "cell_type": "markdown",
      "source": [
        "# When to use logging"
      ],
      "metadata": {
        "id": "xvgbYaPocI6o"
      }
    },
    {
      "cell_type": "markdown",
      "source": [
        "The logging documentation provides us with a [useful guide](https://docs.python.org/3/howto/logging.html#:~:text=Task%20you%20want,and%20application%20domain). \n"
      ],
      "metadata": {
        "id": "lhoChU0DchZX"
      }
    },
    {
      "cell_type": "markdown",
      "source": [
        "![image.png](data:image/png;base64,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)"
      ],
      "metadata": {
        "id": "Bnqf1dvadY0N"
      }
    },
    {
      "cell_type": "code",
      "source": [
        ""
      ],
      "metadata": {
        "id": "x8SUmdNndcOM"
      },
      "execution_count": null,
      "outputs": []
    }
  ]
}